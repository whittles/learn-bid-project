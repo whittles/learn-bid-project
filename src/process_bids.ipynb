{
 "cells": [
  {
   "cell_type": "code",
   "execution_count": null,
   "id": "9c07a561",
   "metadata": {},
   "outputs": [],
   "source": [
    "# TODO: Read lane_data.csv\n",
    "# TODO: Scrape bid files from data/input/carrier_bids/\n",
    "# TODO: Determine winning carrier for each lane\n",
    "# TODO: Create Excel output with lane awards and summary tabs\n",
    "# TODO: Save to data/output/results.xlsx"
   ]
  }
 ],
 "metadata": {
  "kernelspec": {
   "display_name": "base",
   "language": "python",
   "name": "python3"
  },
  "language_info": {
   "name": "python",
   "version": "3.12.7"
  }
 },
 "nbformat": 4,
 "nbformat_minor": 5
}
