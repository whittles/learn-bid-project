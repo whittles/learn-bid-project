{
 "cells": [
  {
   "cell_type": "code",
   "execution_count": 11,
   "id": "04ba48d5",
   "metadata": {},
   "outputs": [],
   "source": [
    "import pandas as pd\n",
    "import numpy as np\n",
    "import os"
   ]
  },
  {
   "cell_type": "code",
   "execution_count": 12,
   "id": "80cc042b",
   "metadata": {},
   "outputs": [],
   "source": [
    "# SETTINGS\n",
    "num_bidders = 6\n",
    "num_brokers = 3\n",
    "# -----\n",
    "num_asset = num_bidders - num_brokers\n",
    "assert num_brokers < num_bidders"
   ]
  },
  {
   "cell_type": "code",
   "execution_count": 13,
   "id": "594d2aa9",
   "metadata": {},
   "outputs": [],
   "source": [
    "output_dir = \"./generator_output\"\n",
    "output_dir_bids = f\"{output_dir}/bids\""
   ]
  },
  {
   "cell_type": "markdown",
   "id": "518dd4d9",
   "metadata": {},
   "source": [
    "### Generate Lanes"
   ]
  },
  {
   "cell_type": "code",
   "execution_count": 14,
   "id": "6f4a1c49",
   "metadata": {},
   "outputs": [],
   "source": [
    "origins = [\"Chicago, IL\", \"Dallas, TX\", \"Los Angeles, CA\"]\n",
    "destinations = [\"Atlanta, GA\", \"Boston, MA\", \"Charlotte, NC\", \"Denver, CO\", \"Houston, TX\", \n",
    "                \"Indianapolis, IN\", \"Jacksonville, FL\", \"Kansas City, MO\", \"Las Vegas, NV\", \n",
    "                \"Miami, FL\", \"Minneapolis, MN\", \"Nashville, TN\", \"New Orleans, LA\", \n",
    "                \"New York, NY\", \"Phoenix, AZ\", \"Pittsburgh, PA\", \"Portland, OR\", \n",
    "                \"Salt Lake City, UT\", \"San Antonio, TX\", \"Seattle, WA\", \"St. Louis, MO\"]\n",
    "# Partial distance matrix (expand for all destinations)\n",
    "distances = {\n",
    "    \"Chicago, IL\": [700, 1000, 750, 1000, 1100, 180, 1000, 550, 1750, 1400, 400, 450, 900, 800, 1750, 450, 2100, 1400, 1200, 2000, 300],\n",
    "    \"Dallas, TX\": [800, 1550, 1000, 800, 250, 900, 1000, 550, 1200, 1300, 1000, 650, 500, 1550, 1050, 1200, 2000, 1200, 300, 2100, 600],\n",
    "    \"Los Angeles, CA\": [2150, 2900, 2400, 1050, 1550, 2050, 2400, 1600, 270, 2700, 1900, 2000, 1900, 2800, 400, 2400, 950, 700, 1350, 1200, 1800]\n",
    "}\n",
    "\n"
   ]
  },
  {
   "cell_type": "code",
   "execution_count": 15,
   "id": "119ddc25",
   "metadata": {},
   "outputs": [
    {
     "data": {
      "text/html": [
       "<div>\n",
       "<style scoped>\n",
       "    .dataframe tbody tr th:only-of-type {\n",
       "        vertical-align: middle;\n",
       "    }\n",
       "\n",
       "    .dataframe tbody tr th {\n",
       "        vertical-align: top;\n",
       "    }\n",
       "\n",
       "    .dataframe thead th {\n",
       "        text-align: right;\n",
       "    }\n",
       "</style>\n",
       "<table border=\"1\" class=\"dataframe\">\n",
       "  <thead>\n",
       "    <tr style=\"text-align: right;\">\n",
       "      <th></th>\n",
       "      <th>LaneID</th>\n",
       "      <th>Origin</th>\n",
       "      <th>Destination</th>\n",
       "      <th>Distance</th>\n",
       "      <th>Freight Type</th>\n",
       "      <th>Historical Cost</th>\n",
       "    </tr>\n",
       "  </thead>\n",
       "  <tbody>\n",
       "    <tr>\n",
       "      <th>0</th>\n",
       "      <td>Lane-0001</td>\n",
       "      <td>Chicago, IL</td>\n",
       "      <td>Atlanta, GA</td>\n",
       "      <td>700</td>\n",
       "      <td>Dry Van</td>\n",
       "      <td>1143.84</td>\n",
       "    </tr>\n",
       "    <tr>\n",
       "      <th>1</th>\n",
       "      <td>Lane-0002</td>\n",
       "      <td>Chicago, IL</td>\n",
       "      <td>Boston, MA</td>\n",
       "      <td>1000</td>\n",
       "      <td>Dry Van</td>\n",
       "      <td>1816.88</td>\n",
       "    </tr>\n",
       "    <tr>\n",
       "      <th>2</th>\n",
       "      <td>Lane-0003</td>\n",
       "      <td>Chicago, IL</td>\n",
       "      <td>Charlotte, NC</td>\n",
       "      <td>750</td>\n",
       "      <td>Dry Van</td>\n",
       "      <td>1184.34</td>\n",
       "    </tr>\n",
       "    <tr>\n",
       "      <th>3</th>\n",
       "      <td>Lane-0004</td>\n",
       "      <td>Chicago, IL</td>\n",
       "      <td>Denver, CO</td>\n",
       "      <td>1000</td>\n",
       "      <td>Dry Van</td>\n",
       "      <td>1832.02</td>\n",
       "    </tr>\n",
       "    <tr>\n",
       "      <th>4</th>\n",
       "      <td>Lane-0005</td>\n",
       "      <td>Chicago, IL</td>\n",
       "      <td>Houston, TX</td>\n",
       "      <td>1100</td>\n",
       "      <td>Dry Van</td>\n",
       "      <td>2010.36</td>\n",
       "    </tr>\n",
       "  </tbody>\n",
       "</table>\n",
       "</div>"
      ],
      "text/plain": [
       "      LaneID       Origin    Destination  Distance Freight Type  \\\n",
       "0  Lane-0001  Chicago, IL    Atlanta, GA       700      Dry Van   \n",
       "1  Lane-0002  Chicago, IL     Boston, MA      1000      Dry Van   \n",
       "2  Lane-0003  Chicago, IL  Charlotte, NC       750      Dry Van   \n",
       "3  Lane-0004  Chicago, IL     Denver, CO      1000      Dry Van   \n",
       "4  Lane-0005  Chicago, IL    Houston, TX      1100      Dry Van   \n",
       "\n",
       "   Historical Cost  \n",
       "0          1143.84  \n",
       "1          1816.88  \n",
       "2          1184.34  \n",
       "3          1832.02  \n",
       "4          2010.36  "
      ]
     },
     "execution_count": 15,
     "metadata": {},
     "output_type": "execute_result"
    }
   ],
   "source": [
    "data = []\n",
    "lane_counter = 1\n",
    "\n",
    "for o in origins:\n",
    "    for d, dist in zip(destinations, distances[o]):\n",
    "        cost = dist * 1.75 * np.random.uniform(0.9, 1.1)\n",
    "        lane_id = f\"Lane-{lane_counter:04d}\"\n",
    "        data.append([lane_id, o, d, dist, \"Dry Van\", round(cost, 2)])\n",
    "        lane_counter += 1\n",
    "\n",
    "lane_df = pd.DataFrame(data, columns=[\"LaneID\",\"Origin\", \"Destination\", \"Distance\", \"Freight Type\", \"Historical Cost\"])\n",
    "lane_df.head()"
   ]
  },
  {
   "cell_type": "code",
   "execution_count": 16,
   "id": "04ee3cd9",
   "metadata": {},
   "outputs": [],
   "source": [
    "lane_df.to_csv(f\"{output_dir}/lane_data.csv\", index=False)"
   ]
  },
  {
   "cell_type": "markdown",
   "id": "3e19d6c5",
   "metadata": {},
   "source": [
    "### Generate Bids"
   ]
  },
  {
   "cell_type": "code",
   "execution_count": 17,
   "id": "1a6ada36",
   "metadata": {},
   "outputs": [],
   "source": [
    "# Function to generate bid file for a single carrier\n",
    "def generate_bid_file(lane_df, carrier_id, carrier_type, output_dir_bids):\n",
    "    bid_data = []\n",
    "    for _, row in lane_df.iterrows():\n",
    "        base = row[\"Distance\"] * 1.75\n",
    "        if carrier_type == \"Broker\":\n",
    "            bid_price = base * np.random.uniform(0.875, 1.15) * np.random.uniform(0.9, 1.1)\n",
    "        else:  # Asset\n",
    "            bid_price = base * np.random.uniform(0.9, 1.05) * np.random.uniform(0.9, 1.1)\n",
    "        bid_data.append([\n",
    "            row[\"LaneID\"], row[\"Origin\"], row[\"Destination\"], row[\"Distance\"], row[\"Freight Type\"],\n",
    "            carrier_id, carrier_type, round(bid_price, 2)\n",
    "        ])\n",
    "    bid_df = pd.DataFrame(bid_data, columns=[\"LaneID\", \"Origin\", \"Destination\", \"Distance\", \"Freight Type\", \"CarrierID\", \"CarrierType\", \"BidPrice\"])\n",
    "    bid_df.to_csv(f\"{output_dir_bids}/bid_{carrier_id}.csv\", index=False)\n",
    "    return bid_df"
   ]
  },
  {
   "cell_type": "code",
   "execution_count": 18,
   "id": "8da41a51",
   "metadata": {},
   "outputs": [
    {
     "name": "stdout",
     "output_type": "stream",
     "text": [
      "Generated bid file for B001: ./generator_output/bids/bid_B001.csv\n",
      "Generated bid file for B002: ./generator_output/bids/bid_B002.csv\n",
      "Generated bid file for B003: ./generator_output/bids/bid_B003.csv\n",
      "Generated bid file for A001: ./generator_output/bids/bid_A001.csv\n",
      "Generated bid file for A002: ./generator_output/bids/bid_A002.csv\n",
      "Generated bid file for A003: ./generator_output/bids/bid_A003.csv\n"
     ]
    }
   ],
   "source": [
    "# Create carrier list\n",
    "carriers = []\n",
    "for i in range(num_brokers):\n",
    "    carriers.append((f\"B{i+1:03d}\", \"Broker\"))\n",
    "for i in range(num_asset):\n",
    "    carriers.append((f\"A{i+1:03d}\", \"Asset\"))\n",
    "\n",
    "# Generate bid file for each carrier\n",
    "for carrier_id, carrier_type in carriers:\n",
    "    bid_df = generate_bid_file(lane_df, carrier_id, carrier_type, output_dir_bids)\n",
    "    print(f\"Generated bid file for {carrier_id}: {output_dir_bids}/bid_{carrier_id}.csv\")\n"
   ]
  },
  {
   "cell_type": "code",
   "execution_count": 19,
   "id": "781be67a",
   "metadata": {},
   "outputs": [
    {
     "name": "stdout",
     "output_type": "stream",
     "text": [
      "\n",
      "Sample bid file (B001):\n",
      "      LaneID       Origin    Destination  Distance Freight Type CarrierID  \\\n",
      "0  Lane-0001  Chicago, IL    Atlanta, GA       700      Dry Van      B001   \n",
      "1  Lane-0002  Chicago, IL     Boston, MA      1000      Dry Van      B001   \n",
      "2  Lane-0003  Chicago, IL  Charlotte, NC       750      Dry Van      B001   \n",
      "3  Lane-0004  Chicago, IL     Denver, CO      1000      Dry Van      B001   \n",
      "4  Lane-0005  Chicago, IL    Houston, TX      1100      Dry Van      B001   \n",
      "\n",
      "  CarrierType  BidPrice  \n",
      "0      Broker   1103.41  \n",
      "1      Broker   1932.08  \n",
      "2      Broker   1473.04  \n",
      "3      Broker   1536.06  \n",
      "4      Broker   1907.49  \n"
     ]
    }
   ],
   "source": [
    "# Optional: Preview one bid file\n",
    "sample_bid = pd.read_csv(f\"{output_dir_bids}/bid_B001.csv\")\n",
    "print(\"\\nSample bid file (B001):\")\n",
    "print(sample_bid.head())"
   ]
  }
 ],
 "metadata": {
  "kernelspec": {
   "display_name": "base",
   "language": "python",
   "name": "python3"
  },
  "language_info": {
   "codemirror_mode": {
    "name": "ipython",
    "version": 3
   },
   "file_extension": ".py",
   "mimetype": "text/x-python",
   "name": "python",
   "nbconvert_exporter": "python",
   "pygments_lexer": "ipython3",
   "version": "3.12.7"
  }
 },
 "nbformat": 4,
 "nbformat_minor": 5
}
